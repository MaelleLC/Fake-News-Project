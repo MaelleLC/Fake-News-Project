{
 "cells": [
  {
   "cell_type": "markdown",
   "metadata": {},
   "source": [
    "***\n",
    "# ONE WEEK GRAPH STUDY\n",
    "***\n",
    "The aim of this notebook is to look into a full week information from the GDELT dataset, and try to do type label propagation on it."
   ]
  },
  {
   "cell_type": "markdown",
   "metadata": {},
   "source": [
    "# LIBRARIES"
   ]
  },
  {
   "cell_type": "code",
   "execution_count": 1,
   "metadata": {},
   "outputs": [],
   "source": [
    "import os\n",
    "import os.path\n",
    "os.chdir(\"C:/Users/maell/Fake_News_Project\")\n",
    "\n",
    "import urllib.request\n",
    "import zipfile\n",
    "\n",
    "import pandas as pd\n",
    "import numpy as np\n",
    "import community\n",
    "\n",
    "from scipy import *\n",
    "\n",
    "from itertools import combinations\n",
    "from collections import Counter\n",
    "\n",
    "import matplotlib.pyplot as plt\n",
    "\n",
    "import networkx as nx\n",
    "\n",
    "from tqdm import tqdm\n",
    "\n",
    "from IPython.display import display #HTML plot of dataframe \n",
    "\n",
    "#plt.rcParams['figure.figsize'] = (20, 6)\n",
    "#import seaborn as sns\n",
    "\n",
    "#%matplotlib inline"
   ]
  },
  {
   "cell_type": "markdown",
   "metadata": {},
   "source": [
    "# LOAD DATAFRAME"
   ]
  },
  {
   "cell_type": "code",
   "execution_count": 2,
   "metadata": {},
   "outputs": [],
   "source": [
    "def open_data(fichier):\n",
    "    data = pd.read_csv(fichier,sep = '\\t',decimal = '.',index_col=0)\n",
    "    return data"
   ]
  },
  {
   "cell_type": "code",
   "execution_count": 3,
   "metadata": {},
   "outputs": [
    {
     "name": "stderr",
     "output_type": "stream",
     "text": [
      "C:\\Users\\maell\\Anaconda3\\lib\\site-packages\\numpy\\lib\\arraysetops.py:472: FutureWarning: elementwise comparison failed; returning scalar instead, but in the future will perform elementwise comparison\n",
      "  mask |= (ar1 == a)\n"
     ]
    }
   ],
   "source": [
    "all_data_path='1_week_all_data_from_20180623_to_20180630'\n",
    "df_all_data=open_data(all_data_path);"
   ]
  },
  {
   "cell_type": "code",
   "execution_count": 6,
   "metadata": {},
   "outputs": [
    {
     "data": {
      "text/html": [
       "<div>\n",
       "<style scoped>\n",
       "    .dataframe tbody tr th:only-of-type {\n",
       "        vertical-align: middle;\n",
       "    }\n",
       "\n",
       "    .dataframe tbody tr th {\n",
       "        vertical-align: top;\n",
       "    }\n",
       "\n",
       "    .dataframe thead th {\n",
       "        text-align: right;\n",
       "    }\n",
       "</style>\n",
       "<table border=\"1\" class=\"dataframe\">\n",
       "  <thead>\n",
       "    <tr style=\"text-align: right;\">\n",
       "      <th></th>\n",
       "      <th>GlobalEventID</th>\n",
       "      <th>EventTimeDate</th>\n",
       "      <th>MentionTimeDate</th>\n",
       "      <th>MentionType</th>\n",
       "      <th>MentionSourceName</th>\n",
       "      <th>MentionIdentifier</th>\n",
       "      <th>SentenceID</th>\n",
       "      <th>Actor1CharOffset</th>\n",
       "      <th>Actor2CharOffset</th>\n",
       "      <th>ActionCharOffset</th>\n",
       "      <th>InRawText</th>\n",
       "      <th>Confidence</th>\n",
       "      <th>MentionDocLen</th>\n",
       "      <th>MentionDocTone</th>\n",
       "      <th>MentionDocTranslationInfo</th>\n",
       "      <th>Extras</th>\n",
       "    </tr>\n",
       "  </thead>\n",
       "  <tbody>\n",
       "    <tr>\n",
       "      <th>0</th>\n",
       "      <td>667330433.0</td>\n",
       "      <td>2.017062e+13</td>\n",
       "      <td>2.018062e+13</td>\n",
       "      <td>1.0</td>\n",
       "      <td>9news.com.au</td>\n",
       "      <td>https://www.9news.com.au/national/2018/06/22/1...</td>\n",
       "      <td>4.0</td>\n",
       "      <td>-1.0</td>\n",
       "      <td>2220.0</td>\n",
       "      <td>2249.0</td>\n",
       "      <td>1.0</td>\n",
       "      <td>80.0</td>\n",
       "      <td>3233.0</td>\n",
       "      <td>4.063604</td>\n",
       "      <td>NaN</td>\n",
       "      <td>NaN</td>\n",
       "    </tr>\n",
       "    <tr>\n",
       "      <th>1</th>\n",
       "      <td>667332152.0</td>\n",
       "      <td>2.017062e+13</td>\n",
       "      <td>2.018062e+13</td>\n",
       "      <td>1.0</td>\n",
       "      <td>lasalle.edu</td>\n",
       "      <td>https://www.lasalle.edu/blog/2018/06/22/la-sal...</td>\n",
       "      <td>5.0</td>\n",
       "      <td>-1.0</td>\n",
       "      <td>462.0</td>\n",
       "      <td>477.0</td>\n",
       "      <td>1.0</td>\n",
       "      <td>100.0</td>\n",
       "      <td>1273.0</td>\n",
       "      <td>5.309735</td>\n",
       "      <td>NaN</td>\n",
       "      <td>NaN</td>\n",
       "    </tr>\n",
       "    <tr>\n",
       "      <th>2</th>\n",
       "      <td>766498492.0</td>\n",
       "      <td>2.018062e+13</td>\n",
       "      <td>2.018062e+13</td>\n",
       "      <td>1.0</td>\n",
       "      <td>irishexaminer.com</td>\n",
       "      <td>https://www.irishexaminer.com/breakingnews/vie...</td>\n",
       "      <td>25.0</td>\n",
       "      <td>-1.0</td>\n",
       "      <td>7867.0</td>\n",
       "      <td>7859.0</td>\n",
       "      <td>0.0</td>\n",
       "      <td>20.0</td>\n",
       "      <td>15858.0</td>\n",
       "      <td>-5.619266</td>\n",
       "      <td>NaN</td>\n",
       "      <td>NaN</td>\n",
       "    </tr>\n",
       "    <tr>\n",
       "      <th>3</th>\n",
       "      <td>766498493.0</td>\n",
       "      <td>2.018062e+13</td>\n",
       "      <td>2.018062e+13</td>\n",
       "      <td>1.0</td>\n",
       "      <td>centralmaine.com</td>\n",
       "      <td>https://www.centralmaine.com/2018/06/22/usda-t...</td>\n",
       "      <td>5.0</td>\n",
       "      <td>-1.0</td>\n",
       "      <td>2209.0</td>\n",
       "      <td>2193.0</td>\n",
       "      <td>0.0</td>\n",
       "      <td>40.0</td>\n",
       "      <td>4916.0</td>\n",
       "      <td>0.000000</td>\n",
       "      <td>NaN</td>\n",
       "      <td>NaN</td>\n",
       "    </tr>\n",
       "    <tr>\n",
       "      <th>4</th>\n",
       "      <td>766498494.0</td>\n",
       "      <td>2.018062e+13</td>\n",
       "      <td>2.018062e+13</td>\n",
       "      <td>1.0</td>\n",
       "      <td>chronicle.co.zw</td>\n",
       "      <td>http://www.chronicle.co.zw/ed-recounts-poisoni...</td>\n",
       "      <td>5.0</td>\n",
       "      <td>1078.0</td>\n",
       "      <td>-1.0</td>\n",
       "      <td>1101.0</td>\n",
       "      <td>0.0</td>\n",
       "      <td>20.0</td>\n",
       "      <td>3716.0</td>\n",
       "      <td>-0.768049</td>\n",
       "      <td>NaN</td>\n",
       "      <td>NaN</td>\n",
       "    </tr>\n",
       "  </tbody>\n",
       "</table>\n",
       "</div>"
      ],
      "text/plain": [
       "   GlobalEventID  EventTimeDate  MentionTimeDate  MentionType  \\\n",
       "0    667330433.0   2.017062e+13     2.018062e+13          1.0   \n",
       "1    667332152.0   2.017062e+13     2.018062e+13          1.0   \n",
       "2    766498492.0   2.018062e+13     2.018062e+13          1.0   \n",
       "3    766498493.0   2.018062e+13     2.018062e+13          1.0   \n",
       "4    766498494.0   2.018062e+13     2.018062e+13          1.0   \n",
       "\n",
       "   MentionSourceName                                  MentionIdentifier  \\\n",
       "0       9news.com.au  https://www.9news.com.au/national/2018/06/22/1...   \n",
       "1        lasalle.edu  https://www.lasalle.edu/blog/2018/06/22/la-sal...   \n",
       "2  irishexaminer.com  https://www.irishexaminer.com/breakingnews/vie...   \n",
       "3   centralmaine.com  https://www.centralmaine.com/2018/06/22/usda-t...   \n",
       "4    chronicle.co.zw  http://www.chronicle.co.zw/ed-recounts-poisoni...   \n",
       "\n",
       "   SentenceID  Actor1CharOffset  Actor2CharOffset  ActionCharOffset  \\\n",
       "0         4.0              -1.0            2220.0            2249.0   \n",
       "1         5.0              -1.0             462.0             477.0   \n",
       "2        25.0              -1.0            7867.0            7859.0   \n",
       "3         5.0              -1.0            2209.0            2193.0   \n",
       "4         5.0            1078.0              -1.0            1101.0   \n",
       "\n",
       "   InRawText  Confidence  MentionDocLen  MentionDocTone  \\\n",
       "0        1.0        80.0         3233.0        4.063604   \n",
       "1        1.0       100.0         1273.0        5.309735   \n",
       "2        0.0        20.0        15858.0       -5.619266   \n",
       "3        0.0        40.0         4916.0        0.000000   \n",
       "4        0.0        20.0         3716.0       -0.768049   \n",
       "\n",
       "   MentionDocTranslationInfo  Extras  \n",
       "0                        NaN     NaN  \n",
       "1                        NaN     NaN  \n",
       "2                        NaN     NaN  \n",
       "3                        NaN     NaN  \n",
       "4                        NaN     NaN  "
      ]
     },
     "execution_count": 6,
     "metadata": {},
     "output_type": "execute_result"
    }
   ],
   "source": [
    "df_all_data.head()"
   ]
  },
  {
   "cell_type": "markdown",
   "metadata": {},
   "source": [
    "# CHOSE THE CRITERIA FOR LIGHT GRAPH"
   ]
  },
  {
   "cell_type": "code",
   "execution_count": 4,
   "metadata": {},
   "outputs": [
    {
     "name": "stderr",
     "output_type": "stream",
     "text": [
      "100%|█████████████████████████████████████████████████████████████████████| 1358027/1358027 [3:22:35<00:00, 111.72it/s]\n"
     ]
    }
   ],
   "source": [
    "x=[] # nombre de website qui publient sur l'evenement\n",
    "pbar = tqdm(total=len(df_all_data.GlobalEventID.unique()))\n",
    "\n",
    "for event in df_all_data.GlobalEventID.unique():\n",
    "    x.append(len(df_all_data[df_all_data.GlobalEventID==event]))\n",
    "    pbar.update(1)\n",
    "    \n",
    "pbar.close()"
   ]
  },
  {
   "cell_type": "code",
   "execution_count": 5,
   "metadata": {},
   "outputs": [],
   "source": [
    "#np.save('histogramme_criteria_light_graph',x)"
   ]
  },
  {
   "cell_type": "code",
   "execution_count": 2,
   "metadata": {},
   "outputs": [],
   "source": [
    "x=np.load('histogramme_criteria_light_graph.npy')"
   ]
  },
  {
   "cell_type": "code",
   "execution_count": 16,
   "metadata": {},
   "outputs": [],
   "source": [
    "%matplotlib inline\n",
    "import matplotlib.pyplot as plt\n",
    "plt.rcParams['figure.figsize'] = (20, 6)\n",
    "import seaborn as sns"
   ]
  },
  {
   "cell_type": "code",
   "execution_count": 12,
   "metadata": {
    "scrolled": false
   },
   "outputs": [
    {
     "name": "stderr",
     "output_type": "stream",
     "text": [
      "C:\\Users\\maell\\Anaconda3\\lib\\site-packages\\matplotlib\\axes\\_axes.py:6462: UserWarning: The 'normed' kwarg is deprecated, and has been replaced by the 'density' kwarg.\n",
      "  warnings.warn(\"The 'normed' kwarg is deprecated, and has been \"\n"
     ]
    },
    {
     "data": {
      "text/plain": [
       "<matplotlib.lines.Line2D at 0x238eb4849e8>"
      ]
     },
     "execution_count": 12,
     "metadata": {},
     "output_type": "execute_result"
    },
    {
     "data": {
      "image/png": "[encoded data removed]",
      "text/plain": [
       "<Figure size 1440x432 with 1 Axes>"
      ]
     },
     "metadata": {},
     "output_type": "display_data"
    }
   ],
   "source": [
    "ax=sns.distplot(x,kde=False,norm_hist=True,bins=500)\n",
    "ax.set_yscale('log')\n",
    "plt.grid()\n",
    "plt.xlabel(\"Number of publication\")\n",
    "plt.ylabel(\"Number of event\")\n",
    "plt.axvline(x=73)"
   ]
  },
  {
   "cell_type": "markdown",
   "metadata": {},
   "source": [
    "Final choice : 73  \n",
    "Aim :\n",
    "- Remove enough logs to have a usable graph\n",
    "- Keep only events that are not republished because newspapers that republish a lot do not advance us."
   ]
  },
  {
   "cell_type": "markdown",
   "metadata": {},
   "source": [
    "# EXTRACT ONLY KNOWN TYPE WEBSITE"
   ]
  },
  {
   "cell_type": "code",
   "execution_count": 4,
   "metadata": {},
   "outputs": [],
   "source": [
    "def light_graph_sources_poids(all_data_path,critere):\n",
    "# create a graph with sources as nodes, and edges weighted as the sources talks on the same event. \n",
    "# the heavier sources (that communicates with a lot of journals) are deleted\n",
    "    data=open_data(all_data_path)\n",
    "    G=nx.Graph()\n",
    "    pbar = tqdm(total=len(data.GlobalEventID.unique()))\n",
    "    \n",
    "    \n",
    "    for event in data.GlobalEventID.unique():\n",
    "        liste_source=data[data.GlobalEventID==event].MentionSourceName\n",
    "        if (len(liste_source)<critere):\n",
    "            for comb in combinations(liste_source,2):\n",
    "                if comb[0]!=comb[1]:\n",
    "                    # deal with node creation\n",
    "                    if not G.has_node(comb[0]):\n",
    "                        G.add_node(comb[0])\n",
    "                    if not G.has_node(comb[1]):\n",
    "                        G.add_node(comb[1])\n",
    "                    # deal with edge creation\n",
    "                    if G.has_edge(comb[0],comb[1]):\n",
    "                        G[comb[0]][comb[1]]['weight'] += 1\n",
    "                    else:\n",
    "                        G.add_edge(comb[0], comb[1], weight=1)\n",
    "        pbar.update(1)\n",
    "        \n",
    "    pbar.close()\n",
    "    return(G)\n",
    "###############################################################################################################\n",
    "def cleaning_graph(H):\n",
    "    G=nx.Graph.copy(H)\n",
    "    \n",
    "    # Deleting the nan\n",
    "    list_source=list(G.nodes)\n",
    "    for source in list_source:\n",
    "        if type(source) is not str:\n",
    "            G.remove_node(source)\n",
    "    \n",
    "    # Remove edges not weigted enough\n",
    "    edges_to_remove = []\n",
    "    for edge in G.edges():\n",
    "        if G[edge[0]][edge[1]]['weight']<5:\n",
    "            edges_to_remove.append(edge)\n",
    "    if(edges_to_remove!=[]):\n",
    "        G.remove_edges_from(edges_to_remove)\n",
    "\n",
    "    # Delete non connected components\n",
    "    composants=list(nx.connected_components(G))\n",
    "    i=0;\n",
    "    while i<len(composants):\n",
    "        if len(composants[i])==1:\n",
    "            composant_supp=list(composants[i])[0]\n",
    "            G.remove_node(composant_supp)\n",
    "        i=i+1     \n",
    "    return G\n",
    "\n",
    "##########################################################################################################################\"\"\n",
    "def label_controversial_website(G,string=None):\n",
    "    fake_news_sources_df=pd.read_csv('Classification_Website_False.csv',sep = ';',decimal = '.')\n",
    "    fake_news_sources_df.set_index('url',inplace=True)\n",
    "    fake_news_sources=list(fake_news_sources_df.index.unique())\n",
    "    for node in list(G.nodes):\n",
    "        if node in fake_news_sources:\n",
    "            G.node[node]['Controversial Website']=fake_news_sources_df.loc[node].type\n",
    "        else:\n",
    "            if string==True:\n",
    "                G.node[node]['Controversial Website']='None'\n",
    "            else:\n",
    "                G.node[node]['Controversial Website']=None\n",
    "    return (G)"
   ]
  },
  {
   "cell_type": "code",
   "execution_count": 7,
   "metadata": {},
   "outputs": [
    {
     "name": "stderr",
     "output_type": "stream",
     "text": [
      "C:\\Users\\maell\\Anaconda3\\lib\\site-packages\\numpy\\lib\\arraysetops.py:472: FutureWarning: elementwise comparison failed; returning scalar instead, but in the future will perform elementwise comparison\n",
      "  mask |= (ar1 == a)\n",
      "100%|█████████████████████████████████████████████████████████████████████| 1358027/1358027 [2:26:03<00:00, 154.97it/s]\n"
     ]
    },
    {
     "ename": "NameError",
     "evalue": "name 'cleaning_graph' is not defined",
     "output_type": "error",
     "traceback": [
      "\u001b[1;31m---------------------------------------------------------------------------\u001b[0m",
      "\u001b[1;31mNameError\u001b[0m                                 Traceback (most recent call last)",
      "\u001b[1;32m<ipython-input-7-df427e61026c>\u001b[0m in \u001b[0;36m<module>\u001b[1;34m()\u001b[0m\n\u001b[0;32m      6\u001b[0m \u001b[1;31m# create the graph\u001b[0m\u001b[1;33m\u001b[0m\u001b[1;33m\u001b[0m\u001b[0m\n\u001b[0;32m      7\u001b[0m \u001b[0mG\u001b[0m\u001b[1;33m=\u001b[0m\u001b[0mlight_graph_sources_poids\u001b[0m\u001b[1;33m(\u001b[0m\u001b[0mall_data_path\u001b[0m\u001b[1;33m,\u001b[0m\u001b[1;36m73\u001b[0m\u001b[1;33m)\u001b[0m\u001b[1;33m\u001b[0m\u001b[0m\n\u001b[1;32m----> 8\u001b[1;33m \u001b[0mG_clean\u001b[0m\u001b[1;33m=\u001b[0m\u001b[0mcleaning_graph\u001b[0m\u001b[1;33m(\u001b[0m\u001b[0mG\u001b[0m\u001b[1;33m)\u001b[0m\u001b[1;33m;\u001b[0m\u001b[1;33m\u001b[0m\u001b[0m\n\u001b[0m\u001b[0;32m      9\u001b[0m \u001b[1;33m\u001b[0m\u001b[0m\n\u001b[0;32m     10\u001b[0m \u001b[1;31m# add type label\u001b[0m\u001b[1;33m\u001b[0m\u001b[1;33m\u001b[0m\u001b[0m\n",
      "\u001b[1;31mNameError\u001b[0m: name 'cleaning_graph' is not defined"
     ]
    }
   ],
   "source": [
    "# load reference\n",
    "fake_news_sources_df=pd.read_csv('Classification_Website_False.csv',sep = ';',decimal = '.')\n",
    "fake_news_sources_df.set_index('url',inplace=True)\n",
    "fake_news_sources=list(fake_news_sources_df.index.unique())\n",
    "\n",
    "# create the graph\n",
    "G=light_graph_sources_poids(all_data_path,73)\n",
    "G_clean=cleaning_graph(G);\n",
    "\n",
    "# add type label\n",
    "G_final=label_controversial_website(G,string=True)\n",
    "\n",
    "#register the graph\n",
    "nx.write_gexf(G_final,'light_graph_1_week_20180623_to_20180630.gexf')"
   ]
  },
  {
   "cell_type": "code",
   "execution_count": 11,
   "metadata": {},
   "outputs": [],
   "source": [
    "G_clean=cleaning_graph(G);\n",
    "\n",
    "# add type label\n",
    "G_final=label_controversial_website(G,string=True)\n",
    "\n",
    "#register the graph\n",
    "nx.write_gexf(G_clean,'light_graph_1_week_20180623_to_20180630.gexf')"
   ]
  },
  {
   "cell_type": "code",
   "execution_count": 13,
   "metadata": {},
   "outputs": [],
   "source": [
    "nx.write_gexf(G_final,'light_graph_1_week_20180623_to_20180630_with_labels.gexf')"
   ]
  },
  {
   "cell_type": "markdown",
   "metadata": {},
   "source": [
    "# LABEL PROPAGATION"
   ]
  },
  {
   "cell_type": "code",
   "execution_count": 5,
   "metadata": {},
   "outputs": [],
   "source": [
    "confidence_type=['political','reliable','confidence']\n",
    "controversial_type=['bias','fake','conspiracy','unknown','satire','hate','clickBait','clickbait','junksci','rumor',\n",
    "                    'unreliable','state','controversial']\n",
    "\n",
    "fake_news_sources_df=pd.read_csv('Classification_Website_False.csv',sep = ';',decimal = '.')\n",
    "fake_news_sources_df.set_index('url',inplace=True)\n",
    "fake_news_sources=list(fake_news_sources_df.index.unique())\n",
    "\n",
    "params=[confidence_type, controversial_type, fake_news_sources_df]"
   ]
  },
  {
   "cell_type": "code",
   "execution_count": 6,
   "metadata": {},
   "outputs": [],
   "source": [
    "def label_propagation_controversial_website_total(G,critere,params,show_results=None,show_working=None,nb_retry=100):\n",
    "\n",
    "    #Récupération des paramètres \n",
    "    [confidence_type, controversial_type, fake_news_sources_df]=params\n",
    "    \n",
    "    #Create labels of nodes\n",
    "    G=label_controversial_website(G);\n",
    "    \n",
    "    #Create list know nodes and other nodes\n",
    "    list_known_nodes=[]\n",
    "    list_other_nodes=[]\n",
    "    for node in list(G.nodes):\n",
    "        if node in fake_news_sources:\n",
    "            list_known_nodes.append(node)\n",
    "        else:\n",
    "            list_other_nodes.append(node)\n",
    "    list_known_nodes=list(set(list_known_nodes))\n",
    "    list_other_nodes=list(set(list_other_nodes))\n",
    "    \n",
    "    #Create train and test set\n",
    "    total_set=list_known_nodes\n",
    "    test_set=[]\n",
    "    train_set=[]\n",
    "    for i in range (0,len(total_set)):\n",
    "        nb=np.random.randint(3)\n",
    "        if nb==2:\n",
    "            test_set.append(total_set[i])\n",
    "            G.node[total_set[i]]['Controversial Website']=None #delete referency\n",
    "        else:\n",
    "            train_set.append(total_set[i])\n",
    "            \n",
    "    # Classification\n",
    "    compteur=0;\n",
    "    compteur_retry=0;\n",
    "\n",
    "    test_set_qui_se_vide=test_set.copy()\n",
    "    test_set_qui_se_vide += list_other_nodes\n",
    "    \n",
    "    while test_set_qui_se_vide!=[]:\n",
    "        #On tire un point au hasard\n",
    "        number_nodes=len(test_set_qui_se_vide)\n",
    "        if number_nodes>1:\n",
    "            node=test_set_qui_se_vide[random.randint(0,number_nodes-1)]\n",
    "        else:\n",
    "            node=test_set_qui_se_vide[0]\n",
    "        \n",
    "        #On regarde ses voisins\n",
    "        list_node_neighbor=list(G.neighbors(node))\n",
    "        \n",
    "        controversial_weight=0;\n",
    "        confidence_weight=0;\n",
    "        for neighboor in list_node_neighbor:\n",
    "            value=G.node[neighboor]['Controversial Website']\n",
    "            if value in confidence_type:\n",
    "                confidence_weight+=G.edges[node,neighboor]['weight']\n",
    "            elif value in controversial_type:\n",
    "                controversial_weight+=G.edges[node,neighboor]['weight']\n",
    "            \n",
    "        if confidence_weight==controversial_weight :\n",
    "            compteur_retry+=1\n",
    "            if show_working==True:\n",
    "                print('Retry',compteur_retry)\n",
    "            if compteur_retry>nb_retry:\n",
    "                if show_working==True:\n",
    "                    print('END')\n",
    "                break\n",
    "        else:\n",
    "            if confidence_weight>critere*controversial_weight:\n",
    "                G.node[node]['Controversial Website']='confidence'\n",
    "                test_set_qui_se_vide.remove(node)\n",
    "                compteur=compteur+1\n",
    "                if show_working==True:\n",
    "                    print('Classified :',compteur)\n",
    "                compteur_retry=0\n",
    "            elif controversial_weight>critere*confidence_weight:\n",
    "                G.node[node]['Controversial Website']='controversial'\n",
    "                test_set_qui_se_vide.remove(node)\n",
    "                compteur=compteur+1\n",
    "                if show_working==True:\n",
    "                    print('Classified :',compteur)\n",
    "                compteur_retry=0\n",
    "                \n",
    "    # Evaluation\n",
    "    confidence_website=list(fake_news_sources_df.loc[fake_news_sources_df['type'].isin(confidence_type)].index)\n",
    "    controversial_website=list(fake_news_sources_df.loc[fake_news_sources_df['type'].isin(controversial_type)].index)\n",
    "\n",
    "    well_classified_confidence=0;\n",
    "    well_classified_controversial=0;\n",
    "    bad_classified=0;\n",
    "    for node in test_set:\n",
    "        if G.nodes[node]['Controversial Website'] in confidence_type and node in confidence_website:\n",
    "            well_classified_confidence+=1\n",
    "        elif G.nodes[node]['Controversial Website'] in controversial_type and node in controversial_website :\n",
    "            well_classified_controversial+=1\n",
    "        elif G.nodes[node]['label'] in test_set_qui_se_vide :\n",
    "            test=0\n",
    "        else:\n",
    "            bad_classified+=1\n",
    "\n",
    "    well_classified=well_classified_confidence+well_classified_controversial\n",
    "    not_classified=len(test_set)-well_classified-bad_classified\n",
    "    if show_results==True:\n",
    "        print('Number of nodes to classified :',len(test_set))\n",
    "        print('Number of nodes not classified :',not_classified,'-',100*(not_classified)/len(test_set),'%')\n",
    "        print('Number of well classified nodes :',well_classified,'-',100*well_classified/len(test_set),'%')\n",
    "        print('Number of bad classifed nodes :',bad_classified,'-',100*bad_classified/len(test_set),'%')\n",
    "        \n",
    "    # DF resultat\n",
    "    df_resultat=pd.DataFrame(columns=['Reference','Found','WebsiteURL'])\n",
    "    df_resultat.set_index('WebsiteURL',inplace=True)\n",
    "    for node in test_set:\n",
    "        df_resultat=df_resultat.append({'WebsiteURL':node, 'Reference':fake_news_sources_df.loc[node].type, 'Found':G.nodes[node]['Controversial Website']}, ignore_index=True)\n",
    "        \n",
    "    \n",
    "    return(G, df_resultat, len(test_set),not_classified,well_classified_controversial,well_classified_confidence,bad_classified)\n",
    "\n",
    "################################################################################################################################\n",
    "\n",
    "def normalization_graph(G):\n",
    "    for e in G.edges():\n",
    "        (n1,n2)=e\n",
    "        denum=np.sqrt(G.degree(n1))*sqrt(G.degree(n2))\n",
    "        G.edges[e]['weight']=G.edges[e]['weight']/denum\n",
    "    return G"
   ]
  },
  {
   "cell_type": "code",
   "execution_count": 7,
   "metadata": {},
   "outputs": [
    {
     "name": "stderr",
     "output_type": "stream",
     "text": [
      "100%|████████████████████████████████████████████████████████████████████████████████| 400/400 [16:43<00:00,  3.01s/it]\n"
     ]
    },
    {
     "data": {
      "text/plain": [
       "<matplotlib.legend.Legend at 0x22832bbe748>"
      ]
     },
     "execution_count": 7,
     "metadata": {},
     "output_type": "execute_result"
    },
    {
     "data": {
      "image/png": "[encoded data removed]",
      "text/plain": [
       "<Figure size 432x288 with 1 Axes>"
      ]
     },
     "metadata": {},
     "output_type": "display_data"
    }
   ],
   "source": [
    "f= 40 #nb of folds\n",
    "list_critere= np.linspace(0, 3, num=10) #list of criteria to test\n",
    "nb_retry=50 #Not mandatory (100 if not given)\n",
    "\n",
    "\n",
    "################################################################################################################################\n",
    "\n",
    "list_not_classified=[];\n",
    "list_well_classified=[];\n",
    "list_well_classified_controversial=[]\n",
    "list_well_classified_confidence=[]\n",
    "list_bad_classified=[];\n",
    "\n",
    "file='light_graph_1_week_20180623_to_20180630.gexf'\n",
    "G=nx.read_gexf(file)\n",
    "G=normalization_graph(G);\n",
    "\n",
    "pbar = tqdm(total=len(list_critere)*f)\n",
    "\n",
    "for critere in list_critere:\n",
    "    mean_not_classified=0\n",
    "    mean_well_classified=0\n",
    "    mean_bad_classified=0\n",
    "    mean_well_classified_controversial=0;\n",
    "    mean_well_classified_confidence=0;\n",
    "\n",
    "    for i in range (0,f):\n",
    "        #print('f=',i,'et critere=',critere)\n",
    "        [G_total, df_res, to_classify, not_classified, well_classified_controversial,well_classified_confidence, bad_classified]=label_propagation_controversial_website_total(G,critere,params,nb_retry=nb_retry)\n",
    "\n",
    "        mean_not_classified+=not_classified/to_classify\n",
    "        mean_well_classified_controversial+=well_classified_controversial/to_classify\n",
    "        mean_well_classified_confidence+=well_classified_confidence/to_classify\n",
    "        mean_well_classified+=(well_classified_confidence+well_classified_controversial)/to_classify\n",
    "        mean_bad_classified+=bad_classified/to_classify\n",
    "        \n",
    "        pbar.update(1)\n",
    "\n",
    "    list_not_classified.append(100*mean_not_classified/f)\n",
    "    list_well_classified.append(100*mean_well_classified/f)\n",
    "    list_well_classified_controversial.append(100*mean_well_classified_controversial/f)\n",
    "    list_well_classified_confidence.append(100*mean_well_classified_confidence/f)\n",
    "    list_bad_classified.append(100*mean_bad_classified/f)\n",
    "    \n",
    "    \n",
    "pbar.close()\n",
    "\n",
    "# plot graph\n",
    "plt.figure()\n",
    "\n",
    "plt.plot(list_critere, list_not_classified,'b^',label='Not Classified')\n",
    "plt.plot(list_critere, list_well_classified,'g*',label='Well Classified')\n",
    "plt.plot(list_critere, list_bad_classified,'rx',label='Bad Classified')\n",
    "plt.xlabel('Critère')\n",
    "plt.ylabel('%')\n",
    "\n",
    "plt.plot(list_critere,list_well_classified_controversial,'r--',label=\"Well Classified Controversial\")\n",
    "plt.plot(list_critere,list_well_classified_confidence,'g--',label=\"Well Classified Confidence\")\n",
    "plt.legend(loc='center left', bbox_to_anchor=(1, 0.5))"
   ]
  },
  {
   "cell_type": "code",
   "execution_count": 10,
   "metadata": {},
   "outputs": [
    {
     "name": "stderr",
     "output_type": "stream",
     "text": [
      "100%|████████████████████████████████████████████████████████████████████████████████| 150/150 [07:07<00:00,  3.27s/it]\n"
     ]
    },
    {
     "data": {
      "text/plain": [
       "<matplotlib.legend.Legend at 0x200895776d8>"
      ]
     },
     "execution_count": 10,
     "metadata": {},
     "output_type": "execute_result"
    },
    {
     "data": {
      "image/png": "[encoded data removed]",
      "text/plain": [
       "<Figure size 432x288 with 1 Axes>"
      ]
     },
     "metadata": {},
     "output_type": "display_data"
    }
   ],
   "source": [
    "f= 15 #nb of folds\n",
    "list_critere= np.linspace(0, 3, num=10) #list of criteria to test\n",
    "nb_retry=50 #Not mandatory (100 if not given)\n",
    "\n",
    "\n",
    "################################################################################################################################\n",
    "\n",
    "list_not_classified=[];\n",
    "list_well_classified=[];\n",
    "list_well_classified_controversial=[]\n",
    "list_well_classified_confidence=[]\n",
    "list_bad_classified=[];\n",
    "\n",
    "file='light_graph_1_week_20180623_to_20180630.gexf'\n",
    "G=nx.read_gexf(file)\n",
    "G=normalization_graph(G);\n",
    "\n",
    "pbar = tqdm(total=len(list_critere)*f)\n",
    "\n",
    "for critere in list_critere:\n",
    "    mean_not_classified=0\n",
    "    mean_well_classified=0\n",
    "    mean_bad_classified=0\n",
    "    mean_well_classified_controversial=0;\n",
    "    mean_well_classified_confidence=0;\n",
    "\n",
    "    for i in range (0,f):\n",
    "        #print('f=',i,'et critere=',critere)\n",
    "        [G_total, df_res, to_classify, not_classified, well_classified_controversial,well_classified_confidence, bad_classified]=label_propagation_controversial_website_total(G,critere,params,nb_retry=nb_retry)\n",
    "\n",
    "        mean_not_classified+=not_classified/to_classify\n",
    "        mean_well_classified_controversial+=well_classified_controversial/to_classify\n",
    "        mean_well_classified_confidence+=well_classified_confidence/to_classify\n",
    "        mean_well_classified+=(well_classified_confidence+well_classified_controversial)/to_classify\n",
    "        mean_bad_classified+=bad_classified/to_classify\n",
    "        \n",
    "        pbar.update(1)\n",
    "\n",
    "    list_not_classified.append(100*mean_not_classified/f)\n",
    "    list_well_classified.append(100*mean_well_classified/f)\n",
    "    list_well_classified_controversial.append(100*mean_well_classified_controversial/f)\n",
    "    list_well_classified_confidence.append(100*mean_well_classified_confidence/f)\n",
    "    list_bad_classified.append(100*mean_bad_classified/f)\n",
    "    \n",
    "    \n",
    "pbar.close()\n",
    "\n",
    "# plot graph\n",
    "plt.figure()\n",
    "\n",
    "plt.plot(list_critere, list_not_classified,'b^',label='Not Classified')\n",
    "plt.plot(list_critere, list_well_classified,'g*',label='Well Classified')\n",
    "plt.plot(list_critere, list_bad_classified,'rx',label='Bad Classified')\n",
    "plt.xlabel('Critère')\n",
    "plt.ylabel('%')\n",
    "\n",
    "plt.plot(list_critere,list_well_classified_controversial,'r--',label=\"Well Classified Controversial\")\n",
    "plt.plot(list_critere,list_well_classified_confidence,'g--',label=\"Well Classified Confidence\")\n",
    "plt.legend(loc='center left', bbox_to_anchor=(1, 0.5))"
   ]
  },
  {
   "cell_type": "markdown",
   "metadata": {},
   "source": [
    "    Result due to 1 week data (probably not) or due to \"light\" graph (what does it change) ?\n",
    "    We have seen that changing nb of day don't change anything -> the result is quite the same"
   ]
  },
  {
   "cell_type": "markdown",
   "metadata": {},
   "source": [
    "# Comparaison with light graph for one day"
   ]
  },
  {
   "cell_type": "markdown",
   "metadata": {},
   "source": [
    "Choice of the criteria"
   ]
  },
  {
   "cell_type": "code",
   "execution_count": 12,
   "metadata": {},
   "outputs": [],
   "source": [
    "path='all_data/all_data_20170930.csv'\n",
    "df_data=open_data(path)"
   ]
  },
  {
   "cell_type": "code",
   "execution_count": 14,
   "metadata": {},
   "outputs": [
    {
     "name": "stderr",
     "output_type": "stream",
     "text": [
      "100%|████████████████████████████████████████████████████████████████████████| 114938/114938 [01:30<00:00, 1265.63it/s]\n"
     ]
    }
   ],
   "source": [
    "x=[] # nombre de website qui publient sur l'evenement\n",
    "pbar = tqdm(total=len(df_data.GlobalEventID.unique()))\n",
    "\n",
    "for event in df_data.GlobalEventID.unique():\n",
    "    x.append(len(df_data[df_data.GlobalEventID==event]))\n",
    "    pbar.update(1)\n",
    "    \n",
    "pbar.close()\n",
    "\n",
    "np.save('histogramme_criteria_light_graph_20170930',x)"
   ]
  },
  {
   "cell_type": "code",
   "execution_count": 17,
   "metadata": {},
   "outputs": [
    {
     "name": "stderr",
     "output_type": "stream",
     "text": [
      "C:\\Users\\maell\\Anaconda3\\lib\\site-packages\\matplotlib\\axes\\_axes.py:6462: UserWarning: The 'normed' kwarg is deprecated, and has been replaced by the 'density' kwarg.\n",
      "  warnings.warn(\"The 'normed' kwarg is deprecated, and has been \"\n"
     ]
    },
    {
     "data": {
      "text/plain": [
       "<matplotlib.lines.Line2D at 0x225a5ff6208>"
      ]
     },
     "execution_count": 17,
     "metadata": {},
     "output_type": "execute_result"
    },
    {
     "data": {
      "image/png": "[encoded data removed]",
      "text/plain": [
       "<Figure size 1440x432 with 1 Axes>"
      ]
     },
     "metadata": {},
     "output_type": "display_data"
    }
   ],
   "source": [
    "ax=sns.distplot(x,kde=False,norm_hist=True,bins=500)\n",
    "ax.set_yscale('log')\n",
    "plt.grid()\n",
    "plt.xlabel(\"Number of publication\")\n",
    "plt.ylabel(\"Number of event\")\n",
    "plt.axvline(x=73)"
   ]
  },
  {
   "cell_type": "markdown",
   "metadata": {},
   "source": [
    "Creation of the light graph"
   ]
  },
  {
   "cell_type": "code",
   "execution_count": 18,
   "metadata": {},
   "outputs": [
    {
     "name": "stderr",
     "output_type": "stream",
     "text": [
      "100%|█████████████████████████████████████████████████████████████████████████| 114938/114938 [02:13<00:00, 858.72it/s]\n"
     ]
    }
   ],
   "source": [
    "# create the graph\n",
    "G=light_graph_sources_poids(path,73)\n",
    "G_clean=cleaning_graph(G);\n",
    "\n",
    "#register the graph\n",
    "nx.write_gexf(G_clean,'light_graph_20170930.gexf')"
   ]
  },
  {
   "cell_type": "markdown",
   "metadata": {},
   "source": [
    "Application of type propagation"
   ]
  },
  {
   "cell_type": "code",
   "execution_count": 9,
   "metadata": {},
   "outputs": [
    {
     "name": "stderr",
     "output_type": "stream",
     "text": [
      "100%|████████████████████████████████████████████████████████████████████████████████| 150/150 [01:14<00:00,  1.83it/s]\n"
     ]
    },
    {
     "data": {
      "text/plain": [
       "<matplotlib.legend.Legend at 0x20082923b38>"
      ]
     },
     "execution_count": 9,
     "metadata": {},
     "output_type": "execute_result"
    },
    {
     "data": {
      "image/png": "[encoded data removed]",
      "text/plain": [
       "<Figure size 432x288 with 1 Axes>"
      ]
     },
     "metadata": {},
     "output_type": "display_data"
    }
   ],
   "source": [
    "f= 15 #nb of folds\n",
    "list_critere= np.linspace(0, 3, num=10) #list of criteria to test\n",
    "nb_retry=50 #Not mandatory (100 if not given)\n",
    "\n",
    "\n",
    "################################################################################################################################\n",
    "\n",
    "list_not_classified=[];\n",
    "list_well_classified=[];\n",
    "list_well_classified_controversial=[]\n",
    "list_well_classified_confidence=[]\n",
    "list_bad_classified=[];\n",
    "\n",
    "file='light_graph_20170930.gexf'\n",
    "G=nx.read_gexf(file)\n",
    "G=normalization_graph(G);\n",
    "\n",
    "pbar = tqdm(total=len(list_critere)*f)\n",
    "\n",
    "for critere in list_critere:\n",
    "    mean_not_classified=0\n",
    "    mean_well_classified=0\n",
    "    mean_bad_classified=0\n",
    "    mean_well_classified_controversial=0;\n",
    "    mean_well_classified_confidence=0;\n",
    "\n",
    "    for i in range (0,f):\n",
    "        #print('f=',i,'et critere=',critere)\n",
    "        [G_total, df_res, to_classify, not_classified, well_classified_controversial,well_classified_confidence, bad_classified]=label_propagation_controversial_website_total(G,critere,params,nb_retry=nb_retry)\n",
    "\n",
    "        mean_not_classified+=not_classified/to_classify\n",
    "        mean_well_classified_controversial+=well_classified_controversial/to_classify\n",
    "        mean_well_classified_confidence+=well_classified_confidence/to_classify\n",
    "        mean_well_classified+=(well_classified_confidence+well_classified_controversial)/to_classify\n",
    "        mean_bad_classified+=bad_classified/to_classify\n",
    "        \n",
    "        pbar.update(1)\n",
    "\n",
    "    list_not_classified.append(100*mean_not_classified/f)\n",
    "    list_well_classified.append(100*mean_well_classified/f)\n",
    "    list_well_classified_controversial.append(100*mean_well_classified_controversial/f)\n",
    "    list_well_classified_confidence.append(100*mean_well_classified_confidence/f)\n",
    "    list_bad_classified.append(100*mean_bad_classified/f)\n",
    "    \n",
    "    \n",
    "pbar.close()\n",
    "\n",
    "# plot graph\n",
    "plt.figure()\n",
    "\n",
    "plt.plot(list_critere, list_not_classified,'b^',label='Not Classified')\n",
    "plt.plot(list_critere, list_well_classified,'g*',label='Well Classified')\n",
    "plt.plot(list_critere, list_bad_classified,'rx',label='Bad Classified')\n",
    "plt.xlabel('Critère')\n",
    "plt.ylabel('%')\n",
    "\n",
    "plt.plot(list_critere,list_well_classified_controversial,'r--',label=\"Well Classified Controversial\")\n",
    "plt.plot(list_critere,list_well_classified_confidence,'g--',label=\"Well Classified Confidence\")\n",
    "plt.legend(loc='center left', bbox_to_anchor=(1, 0.5))"
   ]
  },
  {
   "cell_type": "markdown",
   "metadata": {},
   "source": [
    "    Conclusion :\n",
    "\n",
    "    Prendre que les \"petit\" revient au meme MAIS plus rapide !\n",
    "    Bonne approximation !"
   ]
  },
  {
   "cell_type": "markdown",
   "metadata": {},
   "source": [
    "# Try to found the \"fall down\" criteria for light graph propagation"
   ]
  },
  {
   "cell_type": "code",
   "execution_count": 14,
   "metadata": {},
   "outputs": [
    {
     "data": {
      "text/html": [
       "<div>\n",
       "<style scoped>\n",
       "    .dataframe tbody tr th:only-of-type {\n",
       "        vertical-align: middle;\n",
       "    }\n",
       "\n",
       "    .dataframe tbody tr th {\n",
       "        vertical-align: top;\n",
       "    }\n",
       "\n",
       "    .dataframe thead th {\n",
       "        text-align: right;\n",
       "    }\n",
       "</style>\n",
       "<table border=\"1\" class=\"dataframe\">\n",
       "  <thead>\n",
       "    <tr style=\"text-align: right;\">\n",
       "      <th></th>\n",
       "      <th>GlobalEventID</th>\n",
       "      <th>EventTimeDate</th>\n",
       "      <th>MentionTimeDate</th>\n",
       "      <th>MentionType</th>\n",
       "      <th>MentionSourceName</th>\n",
       "      <th>MentionIdentifier</th>\n",
       "      <th>SentenceID</th>\n",
       "      <th>Actor1CharOffset</th>\n",
       "      <th>Actor2CharOffset</th>\n",
       "      <th>ActionCharOffset</th>\n",
       "      <th>InRawText</th>\n",
       "      <th>Confidence</th>\n",
       "      <th>MentionDocLen</th>\n",
       "      <th>MentionDocTone</th>\n",
       "      <th>MentionDocTranslationInfo</th>\n",
       "      <th>Extras</th>\n",
       "    </tr>\n",
       "  </thead>\n",
       "  <tbody>\n",
       "    <tr>\n",
       "      <th>0</th>\n",
       "      <td>667330433.0</td>\n",
       "      <td>2.017062e+13</td>\n",
       "      <td>2.018062e+13</td>\n",
       "      <td>1.0</td>\n",
       "      <td>9news.com.au</td>\n",
       "      <td>https://www.9news.com.au/national/2018/06/22/1...</td>\n",
       "      <td>4.0</td>\n",
       "      <td>-1.0</td>\n",
       "      <td>2220.0</td>\n",
       "      <td>2249.0</td>\n",
       "      <td>1.0</td>\n",
       "      <td>80.0</td>\n",
       "      <td>3233.0</td>\n",
       "      <td>4.063604</td>\n",
       "      <td>NaN</td>\n",
       "      <td>NaN</td>\n",
       "    </tr>\n",
       "    <tr>\n",
       "      <th>1</th>\n",
       "      <td>667332152.0</td>\n",
       "      <td>2.017062e+13</td>\n",
       "      <td>2.018062e+13</td>\n",
       "      <td>1.0</td>\n",
       "      <td>lasalle.edu</td>\n",
       "      <td>https://www.lasalle.edu/blog/2018/06/22/la-sal...</td>\n",
       "      <td>5.0</td>\n",
       "      <td>-1.0</td>\n",
       "      <td>462.0</td>\n",
       "      <td>477.0</td>\n",
       "      <td>1.0</td>\n",
       "      <td>100.0</td>\n",
       "      <td>1273.0</td>\n",
       "      <td>5.309735</td>\n",
       "      <td>NaN</td>\n",
       "      <td>NaN</td>\n",
       "    </tr>\n",
       "    <tr>\n",
       "      <th>2</th>\n",
       "      <td>766498492.0</td>\n",
       "      <td>2.018062e+13</td>\n",
       "      <td>2.018062e+13</td>\n",
       "      <td>1.0</td>\n",
       "      <td>irishexaminer.com</td>\n",
       "      <td>https://www.irishexaminer.com/breakingnews/vie...</td>\n",
       "      <td>25.0</td>\n",
       "      <td>-1.0</td>\n",
       "      <td>7867.0</td>\n",
       "      <td>7859.0</td>\n",
       "      <td>0.0</td>\n",
       "      <td>20.0</td>\n",
       "      <td>15858.0</td>\n",
       "      <td>-5.619266</td>\n",
       "      <td>NaN</td>\n",
       "      <td>NaN</td>\n",
       "    </tr>\n",
       "    <tr>\n",
       "      <th>3</th>\n",
       "      <td>766498493.0</td>\n",
       "      <td>2.018062e+13</td>\n",
       "      <td>2.018062e+13</td>\n",
       "      <td>1.0</td>\n",
       "      <td>centralmaine.com</td>\n",
       "      <td>https://www.centralmaine.com/2018/06/22/usda-t...</td>\n",
       "      <td>5.0</td>\n",
       "      <td>-1.0</td>\n",
       "      <td>2209.0</td>\n",
       "      <td>2193.0</td>\n",
       "      <td>0.0</td>\n",
       "      <td>40.0</td>\n",
       "      <td>4916.0</td>\n",
       "      <td>0.000000</td>\n",
       "      <td>NaN</td>\n",
       "      <td>NaN</td>\n",
       "    </tr>\n",
       "    <tr>\n",
       "      <th>4</th>\n",
       "      <td>766498494.0</td>\n",
       "      <td>2.018062e+13</td>\n",
       "      <td>2.018062e+13</td>\n",
       "      <td>1.0</td>\n",
       "      <td>chronicle.co.zw</td>\n",
       "      <td>http://www.chronicle.co.zw/ed-recounts-poisoni...</td>\n",
       "      <td>5.0</td>\n",
       "      <td>1078.0</td>\n",
       "      <td>-1.0</td>\n",
       "      <td>1101.0</td>\n",
       "      <td>0.0</td>\n",
       "      <td>20.0</td>\n",
       "      <td>3716.0</td>\n",
       "      <td>-0.768049</td>\n",
       "      <td>NaN</td>\n",
       "      <td>NaN</td>\n",
       "    </tr>\n",
       "  </tbody>\n",
       "</table>\n",
       "</div>"
      ],
      "text/plain": [
       "   GlobalEventID  EventTimeDate  MentionTimeDate  MentionType  \\\n",
       "0    667330433.0   2.017062e+13     2.018062e+13          1.0   \n",
       "1    667332152.0   2.017062e+13     2.018062e+13          1.0   \n",
       "2    766498492.0   2.018062e+13     2.018062e+13          1.0   \n",
       "3    766498493.0   2.018062e+13     2.018062e+13          1.0   \n",
       "4    766498494.0   2.018062e+13     2.018062e+13          1.0   \n",
       "\n",
       "   MentionSourceName                                  MentionIdentifier  \\\n",
       "0       9news.com.au  https://www.9news.com.au/national/2018/06/22/1...   \n",
       "1        lasalle.edu  https://www.lasalle.edu/blog/2018/06/22/la-sal...   \n",
       "2  irishexaminer.com  https://www.irishexaminer.com/breakingnews/vie...   \n",
       "3   centralmaine.com  https://www.centralmaine.com/2018/06/22/usda-t...   \n",
       "4    chronicle.co.zw  http://www.chronicle.co.zw/ed-recounts-poisoni...   \n",
       "\n",
       "   SentenceID  Actor1CharOffset  Actor2CharOffset  ActionCharOffset  \\\n",
       "0         4.0              -1.0            2220.0            2249.0   \n",
       "1         5.0              -1.0             462.0             477.0   \n",
       "2        25.0              -1.0            7867.0            7859.0   \n",
       "3         5.0              -1.0            2209.0            2193.0   \n",
       "4         5.0            1078.0              -1.0            1101.0   \n",
       "\n",
       "   InRawText  Confidence  MentionDocLen  MentionDocTone  \\\n",
       "0        1.0        80.0         3233.0        4.063604   \n",
       "1        1.0       100.0         1273.0        5.309735   \n",
       "2        0.0        20.0        15858.0       -5.619266   \n",
       "3        0.0        40.0         4916.0        0.000000   \n",
       "4        0.0        20.0         3716.0       -0.768049   \n",
       "\n",
       "   MentionDocTranslationInfo  Extras  \n",
       "0                        NaN     NaN  \n",
       "1                        NaN     NaN  \n",
       "2                        NaN     NaN  \n",
       "3                        NaN     NaN  \n",
       "4                        NaN     NaN  "
      ]
     },
     "execution_count": 14,
     "metadata": {},
     "output_type": "execute_result"
    }
   ],
   "source": [
    "df_data=open_data('1_week_all_data_from_20180623_to_20180630')\n",
    "df_data.head()"
   ]
  },
  {
   "cell_type": "code",
   "execution_count": 6,
   "metadata": {},
   "outputs": [],
   "source": [
    "def light_graph_sources_poids_v2(all_data_preprocess_path,critere):\n",
    "# v2 : faster -> preprocessing on df\n",
    "    \n",
    "# create a graph with sources as nodes, and edges weighted as the sources talks on the same event. \n",
    "# the heavier sources (that communicates with a lot of journals) are deleted\n",
    "    data=open_data(all_data_preprocess_path)\n",
    "    G=nx.Graph()\n",
    "    pbar = tqdm(total=len(data.GlobalEventID.unique()))\n",
    "    \n",
    "    for event in data.GlobalEventID.unique():\n",
    "        liste_source=data[data.GlobalEventID==event].MentionSourceName\n",
    "        if (len(liste_source)<critere):\n",
    "            for comb in combinations(liste_source,2):\n",
    "                if comb[0]!=comb[1]:\n",
    "                    # deal with node creation\n",
    "                    if not G.has_node(comb[0]):\n",
    "                        G.add_node(comb[0])\n",
    "                    if not G.has_node(comb[1]):\n",
    "                        G.add_node(comb[1])\n",
    "                    # deal with edge creation\n",
    "                    if G.has_edge(comb[0],comb[1]):\n",
    "                        G[comb[0]][comb[1]]['weight'] += 1\n",
    "                    else:\n",
    "                        G.add_edge(comb[0], comb[1], weight=1)\n",
    "        pbar.update(1)\n",
    "        \n",
    "    pbar.close()\n",
    "    return(G)"
   ]
  },
  {
   "cell_type": "code",
   "execution_count": 10,
   "metadata": {},
   "outputs": [],
   "source": [
    "def light_graph_sources_poids_v3(all_data_preprocess_path,critere_sum,critere_inf):\n",
    "# v2 : faster -> preprocessing on df\n",
    "# v3: critère sup et critère inf\n",
    "    \n",
    "# create a graph with sources as nodes, and edges weighted as the sources talks on the same event. \n",
    "# the heavier sources (that communicates with a lot of journals) are deleted\n",
    "    data=open_data(all_data_preprocess_path)\n",
    "    G=nx.Graph()\n",
    "    pbar = tqdm(total=len(data.GlobalEventID.unique()))\n",
    "    \n",
    "    for event in data.GlobalEventID.unique():\n",
    "        liste_source=data[data.GlobalEventID==event].MentionSourceName\n",
    "        if (len(liste_source)<critere_sup and len(liste_source)>critere_inf):\n",
    "            for comb in combinations(liste_source,2):\n",
    "                if comb[0]!=comb[1]:\n",
    "                    # deal with node creation\n",
    "                    if not G.has_node(comb[0]):\n",
    "                        G.add_node(comb[0])\n",
    "                    if not G.has_node(comb[1]):\n",
    "                        G.add_node(comb[1])\n",
    "                    # deal with edge creation\n",
    "                    if G.has_edge(comb[0],comb[1]):\n",
    "                        G[comb[0]][comb[1]]['weight'] += 1\n",
    "                    else:\n",
    "                        G.add_edge(comb[0], comb[1], weight=1)\n",
    "        pbar.update(1)\n",
    "        \n",
    "    pbar.close()\n",
    "    return(G)"
   ]
  },
  {
   "cell_type": "code",
   "execution_count": 8,
   "metadata": {},
   "outputs": [],
   "source": [
    "def preprocess(data):\n",
    "     ### pre-processing on graph ###\n",
    "    print('Start Preprocessing')\n",
    "    data=data.drop_duplicates({'MentionTimeDate','GlobalEventID','MentionSourceName'}) #drop duplicates\n",
    "    #out=data[data.groupby('GlobalEventID').filter(lambda x: len(x) > 1)] #drop event that appear only once\n",
    "    out=data.loc[data.duplicated(subset='GlobalEventID', keep=False), :]\n",
    "    print('End Preprocessing')\n",
    "    return out\n",
    "    ###############################"
   ]
  },
  {
   "cell_type": "markdown",
   "metadata": {},
   "source": [
    "### Create the light graphs"
   ]
  },
  {
   "cell_type": "code",
   "execution_count": 32,
   "metadata": {},
   "outputs": [
    {
     "name": "stderr",
     "output_type": "stream",
     "text": [
      "C:\\Users\\maell\\Anaconda3\\lib\\site-packages\\numpy\\lib\\arraysetops.py:472: FutureWarning: elementwise comparison failed; returning scalar instead, but in the future will perform elementwise comparison\n",
      "  mask |= (ar1 == a)\n"
     ]
    },
    {
     "name": "stdout",
     "output_type": "stream",
     "text": [
      "Start Preprocessing\n",
      "End Preprocessing\n"
     ]
    }
   ],
   "source": [
    "all_data_path='1_week_all_data_from_20180623_to_20180630'\n",
    "data=open_data(all_data_path)\n",
    "all_data_preprocess=preprocess(data)\n",
    "all_data_preprocess.to_csv('1_week_all_data_preprocess.csv',sep = '\\t',decimal = '.')"
   ]
  },
  {
   "cell_type": "code",
   "execution_count": 49,
   "metadata": {},
   "outputs": [
    {
     "name": "stderr",
     "output_type": "stream",
     "text": [
      "C:\\Users\\maell\\Anaconda3\\lib\\site-packages\\numpy\\lib\\arraysetops.py:472: FutureWarning: elementwise comparison failed; returning scalar instead, but in the future will perform elementwise comparison\n",
      "  mask |= (ar1 == a)\n",
      "100%|█████████████████████████████████████████████████████████████████████████| 383859/383859 [34:25<00:00, 185.88it/s]\n"
     ]
    },
    {
     "ename": "TypeError",
     "evalue": "must be str, not int",
     "output_type": "error",
     "traceback": [
      "\u001b[1;31m---------------------------------------------------------------------------\u001b[0m",
      "\u001b[1;31mTypeError\u001b[0m                                 Traceback (most recent call last)",
      "\u001b[1;32m<ipython-input-49-6d1441f4c9fd>\u001b[0m in \u001b[0;36m<module>\u001b[1;34m()\u001b[0m\n\u001b[0;32m      3\u001b[0m \u001b[0mG\u001b[0m\u001b[1;33m=\u001b[0m\u001b[0mlight_graph_sources_poids_v2\u001b[0m\u001b[1;33m(\u001b[0m\u001b[0mall_data_preprocess_path\u001b[0m\u001b[1;33m,\u001b[0m\u001b[0mcritere\u001b[0m\u001b[1;33m)\u001b[0m\u001b[1;33m\u001b[0m\u001b[0m\n\u001b[0;32m      4\u001b[0m \u001b[0mG_clean\u001b[0m\u001b[1;33m=\u001b[0m\u001b[0mcleaning_graph\u001b[0m\u001b[1;33m(\u001b[0m\u001b[0mG\u001b[0m\u001b[1;33m)\u001b[0m\u001b[1;33m;\u001b[0m\u001b[1;33m\u001b[0m\u001b[0m\n\u001b[1;32m----> 5\u001b[1;33m \u001b[0mnx\u001b[0m\u001b[1;33m.\u001b[0m\u001b[0mwrite_gexf\u001b[0m\u001b[1;33m(\u001b[0m\u001b[0mG_clean\u001b[0m\u001b[1;33m,\u001b[0m\u001b[1;34m'light_graph_1_week_20180623_to_20180630_critere_'\u001b[0m\u001b[1;33m+\u001b[0m\u001b[0mcritere\u001b[0m\u001b[1;33m+\u001b[0m\u001b[1;34m'.gexf'\u001b[0m\u001b[1;33m)\u001b[0m\u001b[1;33m\u001b[0m\u001b[0m\n\u001b[0m",
      "\u001b[1;31mTypeError\u001b[0m: must be str, not int"
     ]
    }
   ],
   "source": [
    "all_data_preprocess_path='1_week_all_data_preprocess.csv'\n",
    "critere=10\n",
    "G=light_graph_sources_poids_v2(all_data_preprocess_path,critere)\n",
    "G_clean=cleaning_graph(G);\n",
    "nx.write_gexf(G_clean,'light_graph_1_week_20180623_to_20180630_critere_'+str(critere)+'.gexf')"
   ]
  },
  {
   "cell_type": "code",
   "execution_count": 51,
   "metadata": {},
   "outputs": [
    {
     "name": "stderr",
     "output_type": "stream",
     "text": [
      "C:\\Users\\maell\\Anaconda3\\lib\\site-packages\\numpy\\lib\\arraysetops.py:472: FutureWarning: elementwise comparison failed; returning scalar instead, but in the future will perform elementwise comparison\n",
      "  mask |= (ar1 == a)\n",
      "100%|█████████████████████████████████████████████████████████████████████████| 383859/383859 [35:46<00:00, 183.53it/s]\n"
     ]
    }
   ],
   "source": [
    "all_data_preprocess_path='1_week_all_data_preprocess.csv'\n",
    "critere=5\n",
    "G=light_graph_sources_poids_v2(all_data_preprocess_path,critere)\n",
    "G_clean=cleaning_graph(G);\n",
    "nx.write_gexf(G_clean,'light_graph_1_week_20180623_to_20180630_critere_'+str(critere)+'.gexf')"
   ]
  },
  {
   "cell_type": "code",
   "execution_count": 54,
   "metadata": {},
   "outputs": [
    {
     "name": "stderr",
     "output_type": "stream",
     "text": [
      "C:\\Users\\maell\\Anaconda3\\lib\\site-packages\\numpy\\lib\\arraysetops.py:472: FutureWarning: elementwise comparison failed; returning scalar instead, but in the future will perform elementwise comparison\n",
      "  mask |= (ar1 == a)\n",
      "100%|█████████████████████████████████████████████████████████████████████████| 383859/383859 [37:43<00:00, 169.57it/s]\n"
     ]
    }
   ],
   "source": [
    "all_data_preprocess_path='1_week_all_data_preprocess.csv'\n",
    "critere=7\n",
    "G=light_graph_sources_poids_v2(all_data_preprocess_path,critere)\n",
    "G_clean=cleaning_graph(G);\n",
    "nx.write_gexf(G_clean,'light_graph_1_week_20180623_to_20180630_critere_'+str(critere)+'.gexf')"
   ]
  },
  {
   "cell_type": "code",
   "execution_count": 60,
   "metadata": {},
   "outputs": [
    {
     "name": "stderr",
     "output_type": "stream",
     "text": [
      "C:\\Users\\maell\\Anaconda3\\lib\\site-packages\\numpy\\lib\\arraysetops.py:472: FutureWarning: elementwise comparison failed; returning scalar instead, but in the future will perform elementwise comparison\n",
      "  mask |= (ar1 == a)\n",
      "100%|█████████████████████████████████████████████████████████████████████████| 383859/383859 [35:21<00:00, 192.78it/s]\n"
     ]
    }
   ],
   "source": [
    "all_data_preprocess_path='1_week_all_data_preprocess.csv'\n",
    "critere_sup=10\n",
    "critere_inf=5\n",
    "G=light_graph_sources_poids_v3(all_data_preprocess_path,critere_sup,critere_inf)\n",
    "G_clean=cleaning_graph(G);\n",
    "nx.write_gexf(G_clean,'light_graph_1_week_20180623_to_20180630_critere_between_5_10.gexf')"
   ]
  },
  {
   "cell_type": "markdown",
   "metadata": {},
   "source": [
    "### Proceed label propagation"
   ]
  },
  {
   "cell_type": "code",
   "execution_count": 52,
   "metadata": {},
   "outputs": [
    {
     "name": "stderr",
     "output_type": "stream",
     "text": [
      "100%|████████████████████████████████████████████████████████████████████████████████| 150/150 [01:20<00:00,  1.79it/s]\n"
     ]
    },
    {
     "ename": "NameError",
     "evalue": "name 'pt' is not defined",
     "output_type": "error",
     "traceback": [
      "\u001b[1;31m---------------------------------------------------------------------------\u001b[0m",
      "\u001b[1;31mNameError\u001b[0m                                 Traceback (most recent call last)",
      "\u001b[1;32m<ipython-input-52-e1cd15f6b60a>\u001b[0m in \u001b[0;36m<module>\u001b[1;34m()\u001b[0m\n\u001b[0;32m     58\u001b[0m \u001b[0mplt\u001b[0m\u001b[1;33m.\u001b[0m\u001b[0mplot\u001b[0m\u001b[1;33m(\u001b[0m\u001b[0mlist_critere\u001b[0m\u001b[1;33m,\u001b[0m\u001b[0mlist_well_classified_confidence\u001b[0m\u001b[1;33m,\u001b[0m\u001b[1;34m'g--'\u001b[0m\u001b[1;33m,\u001b[0m\u001b[0mlabel\u001b[0m\u001b[1;33m=\u001b[0m\u001b[1;34m\"Well Classified Confidence\"\u001b[0m\u001b[1;33m)\u001b[0m\u001b[1;33m\u001b[0m\u001b[0m\n\u001b[0;32m     59\u001b[0m \u001b[0mplt\u001b[0m\u001b[1;33m.\u001b[0m\u001b[0mlegend\u001b[0m\u001b[1;33m(\u001b[0m\u001b[0mloc\u001b[0m\u001b[1;33m=\u001b[0m\u001b[1;34m'center left'\u001b[0m\u001b[1;33m,\u001b[0m \u001b[0mbbox_to_anchor\u001b[0m\u001b[1;33m=\u001b[0m\u001b[1;33m(\u001b[0m\u001b[1;36m1\u001b[0m\u001b[1;33m,\u001b[0m \u001b[1;36m0.5\u001b[0m\u001b[1;33m)\u001b[0m\u001b[1;33m)\u001b[0m\u001b[1;33m\u001b[0m\u001b[0m\n\u001b[1;32m---> 60\u001b[1;33m \u001b[0mpt\u001b[0m\u001b[1;33m.\u001b[0m\u001b[0mtitle\u001b[0m\u001b[1;33m(\u001b[0m\u001b[1;34m'light_graph_1_week_20180623_to_20180630_critere_10'\u001b[0m\u001b[1;33m)\u001b[0m\u001b[1;33m\u001b[0m\u001b[0m\n\u001b[0m",
      "\u001b[1;31mNameError\u001b[0m: name 'pt' is not defined"
     ]
    },
    {
     "data": {
      "image/png": "[encoded data removed]",
      "text/plain": [
       "<Figure size 432x288 with 1 Axes>"
      ]
     },
     "metadata": {},
     "output_type": "display_data"
    }
   ],
   "source": [
    "f= 15 #nb of folds\n",
    "list_critere= np.linspace(0, 3, num=10) #list of criteria to test\n",
    "nb_retry=50 #Not mandatory (100 if not given)\n",
    "\n",
    "\n",
    "################################################################################################################################\n",
    "\n",
    "list_not_classified=[];\n",
    "list_well_classified=[];\n",
    "list_well_classified_controversial=[]\n",
    "list_well_classified_confidence=[]\n",
    "list_bad_classified=[];\n",
    "\n",
    "file='light_graph_1_week_20180623_to_20180630_critere_10.gexf'\n",
    "G=nx.read_gexf(file)\n",
    "G=normalization_graph(G);\n",
    "\n",
    "pbar = tqdm(total=len(list_critere)*f)\n",
    "\n",
    "for critere in list_critere:\n",
    "    mean_not_classified=0\n",
    "    mean_well_classified=0\n",
    "    mean_bad_classified=0\n",
    "    mean_well_classified_controversial=0;\n",
    "    mean_well_classified_confidence=0;\n",
    "\n",
    "    for i in range (0,f):\n",
    "        #print('f=',i,'et critere=',critere)\n",
    "        [G_total, df_res, to_classify, not_classified, well_classified_controversial,well_classified_confidence, bad_classified]=label_propagation_controversial_website_total(G,critere,params,nb_retry=nb_retry)\n",
    "\n",
    "        mean_not_classified+=not_classified/to_classify\n",
    "        mean_well_classified_controversial+=well_classified_controversial/to_classify\n",
    "        mean_well_classified_confidence+=well_classified_confidence/to_classify\n",
    "        mean_well_classified+=(well_classified_confidence+well_classified_controversial)/to_classify\n",
    "        mean_bad_classified+=bad_classified/to_classify\n",
    "        \n",
    "        pbar.update(1)\n",
    "\n",
    "    list_not_classified.append(100*mean_not_classified/f)\n",
    "    list_well_classified.append(100*mean_well_classified/f)\n",
    "    list_well_classified_controversial.append(100*mean_well_classified_controversial/f)\n",
    "    list_well_classified_confidence.append(100*mean_well_classified_confidence/f)\n",
    "    list_bad_classified.append(100*mean_bad_classified/f)\n",
    "    \n",
    "    \n",
    "pbar.close()\n",
    "\n",
    "# plot graph\n",
    "plt.figure()\n",
    "\n",
    "plt.plot(list_critere, list_not_classified,'b^',label='Not Classified')\n",
    "plt.plot(list_critere, list_well_classified,'g*',label='Well Classified')\n",
    "plt.plot(list_critere, list_bad_classified,'rx',label='Bad Classified')\n",
    "plt.xlabel('Critère')\n",
    "plt.ylabel('%')\n",
    "\n",
    "plt.plot(list_critere,list_well_classified_controversial,'r--',label=\"Well Classified Controversial\")\n",
    "plt.plot(list_critere,list_well_classified_confidence,'g--',label=\"Well Classified Confidence\")\n",
    "plt.legend(loc='center left', bbox_to_anchor=(1, 0.5))\n",
    "plt.title('light_graph_1_week_20180623_to_20180630_critere_10')"
   ]
  },
  {
   "cell_type": "code",
   "execution_count": 53,
   "metadata": {},
   "outputs": [
    {
     "name": "stderr",
     "output_type": "stream",
     "text": [
      "100%|████████████████████████████████████████████████████████████████████████████████| 150/150 [00:34<00:00,  6.06it/s]\n"
     ]
    },
    {
     "data": {
      "text/plain": [
       "Text(0.5,1,'light_graph_1_week_20180623_to_20180630_critere_5')"
      ]
     },
     "execution_count": 53,
     "metadata": {},
     "output_type": "execute_result"
    },
    {
     "data": {
      "image/png": "[encoded data removed]",
      "text/plain": [
       "<Figure size 432x288 with 1 Axes>"
      ]
     },
     "metadata": {},
     "output_type": "display_data"
    }
   ],
   "source": [
    "f= 15 #nb of folds\n",
    "list_critere= np.linspace(0, 3, num=10) #list of criteria to test\n",
    "nb_retry=50 #Not mandatory (100 if not given)\n",
    "\n",
    "\n",
    "################################################################################################################################\n",
    "\n",
    "list_not_classified=[];\n",
    "list_well_classified=[];\n",
    "list_well_classified_controversial=[]\n",
    "list_well_classified_confidence=[]\n",
    "list_bad_classified=[];\n",
    "\n",
    "file='light_graph_1_week_20180623_to_20180630_critere_5.gexf'\n",
    "G=nx.read_gexf(file)\n",
    "G=normalization_graph(G);\n",
    "\n",
    "pbar = tqdm(total=len(list_critere)*f)\n",
    "\n",
    "for critere in list_critere:\n",
    "    mean_not_classified=0\n",
    "    mean_well_classified=0\n",
    "    mean_bad_classified=0\n",
    "    mean_well_classified_controversial=0;\n",
    "    mean_well_classified_confidence=0;\n",
    "\n",
    "    for i in range (0,f):\n",
    "        #print('f=',i,'et critere=',critere)\n",
    "        [G_total, df_res, to_classify, not_classified, well_classified_controversial,well_classified_confidence, bad_classified]=label_propagation_controversial_website_total(G,critere,params,nb_retry=nb_retry)\n",
    "\n",
    "        mean_not_classified+=not_classified/to_classify\n",
    "        mean_well_classified_controversial+=well_classified_controversial/to_classify\n",
    "        mean_well_classified_confidence+=well_classified_confidence/to_classify\n",
    "        mean_well_classified+=(well_classified_confidence+well_classified_controversial)/to_classify\n",
    "        mean_bad_classified+=bad_classified/to_classify\n",
    "        \n",
    "        pbar.update(1)\n",
    "\n",
    "    list_not_classified.append(100*mean_not_classified/f)\n",
    "    list_well_classified.append(100*mean_well_classified/f)\n",
    "    list_well_classified_controversial.append(100*mean_well_classified_controversial/f)\n",
    "    list_well_classified_confidence.append(100*mean_well_classified_confidence/f)\n",
    "    list_bad_classified.append(100*mean_bad_classified/f)\n",
    "    \n",
    "    \n",
    "pbar.close()\n",
    "\n",
    "# plot graph\n",
    "plt.figure()\n",
    "\n",
    "plt.plot(list_critere, list_not_classified,'b^',label='Not Classified')\n",
    "plt.plot(list_critere, list_well_classified,'g*',label='Well Classified')\n",
    "plt.plot(list_critere, list_bad_classified,'rx',label='Bad Classified')\n",
    "plt.xlabel('Critère')\n",
    "plt.ylabel('%')\n",
    "\n",
    "plt.plot(list_critere,list_well_classified_controversial,'r--',label=\"Well Classified Controversial\")\n",
    "plt.plot(list_critere,list_well_classified_confidence,'g--',label=\"Well Classified Confidence\")\n",
    "plt.legend(loc='center left', bbox_to_anchor=(1, 0.5))\n",
    "plt.title('light_graph_1_week_20180623_to_20180630_critere_5')"
   ]
  },
  {
   "cell_type": "code",
   "execution_count": 56,
   "metadata": {},
   "outputs": [
    {
     "name": "stderr",
     "output_type": "stream",
     "text": [
      "100%|████████████████████████████████████████████████████████████████████████████████| 150/150 [00:59<00:00,  3.02it/s]\n"
     ]
    },
    {
     "data": {
      "text/plain": [
       "Text(0.5,1,'light_graph_1_week_20180623_to_20180630_critere_7')"
      ]
     },
     "execution_count": 56,
     "metadata": {},
     "output_type": "execute_result"
    },
    {
     "data": {
      "image/png": "[encoded data removed]",
      "text/plain": [
       "<Figure size 432x288 with 1 Axes>"
      ]
     },
     "metadata": {},
     "output_type": "display_data"
    }
   ],
   "source": [
    "f= 15 #nb of folds\n",
    "list_critere= np.linspace(0, 3, num=10) #list of criteria to test\n",
    "nb_retry=50 #Not mandatory (100 if not given)\n",
    "\n",
    "\n",
    "################################################################################################################################\n",
    "\n",
    "list_not_classified=[];\n",
    "list_well_classified=[];\n",
    "list_well_classified_controversial=[]\n",
    "list_well_classified_confidence=[]\n",
    "list_bad_classified=[];\n",
    "\n",
    "file='light_graph_1_week_20180623_to_20180630_critere_7.gexf'\n",
    "G=nx.read_gexf(file)\n",
    "G=normalization_graph(G);\n",
    "\n",
    "pbar = tqdm(total=len(list_critere)*f)\n",
    "\n",
    "for critere in list_critere:\n",
    "    mean_not_classified=0\n",
    "    mean_well_classified=0\n",
    "    mean_bad_classified=0\n",
    "    mean_well_classified_controversial=0;\n",
    "    mean_well_classified_confidence=0;\n",
    "\n",
    "    for i in range (0,f):\n",
    "        #print('f=',i,'et critere=',critere)\n",
    "        [G_total, df_res, to_classify, not_classified, well_classified_controversial,well_classified_confidence, bad_classified]=label_propagation_controversial_website_total(G,critere,params,nb_retry=nb_retry)\n",
    "\n",
    "        mean_not_classified+=not_classified/to_classify\n",
    "        mean_well_classified_controversial+=well_classified_controversial/to_classify\n",
    "        mean_well_classified_confidence+=well_classified_confidence/to_classify\n",
    "        mean_well_classified+=(well_classified_confidence+well_classified_controversial)/to_classify\n",
    "        mean_bad_classified+=bad_classified/to_classify\n",
    "        \n",
    "        pbar.update(1)\n",
    "\n",
    "    list_not_classified.append(100*mean_not_classified/f)\n",
    "    list_well_classified.append(100*mean_well_classified/f)\n",
    "    list_well_classified_controversial.append(100*mean_well_classified_controversial/f)\n",
    "    list_well_classified_confidence.append(100*mean_well_classified_confidence/f)\n",
    "    list_bad_classified.append(100*mean_bad_classified/f)\n",
    "    \n",
    "    \n",
    "pbar.close()\n",
    "\n",
    "# plot graph\n",
    "plt.figure()\n",
    "\n",
    "plt.plot(list_critere, list_not_classified,'b^',label='Not Classified')\n",
    "plt.plot(list_critere, list_well_classified,'g*',label='Well Classified')\n",
    "plt.plot(list_critere, list_bad_classified,'rx',label='Bad Classified')\n",
    "plt.xlabel('Critère')\n",
    "plt.ylabel('%')\n",
    "\n",
    "plt.plot(list_critere,list_well_classified_controversial,'r--',label=\"Well Classified Controversial\")\n",
    "plt.plot(list_critere,list_well_classified_confidence,'g--',label=\"Well Classified Confidence\")\n",
    "plt.legend(loc='center left', bbox_to_anchor=(1, 0.5))\n",
    "plt.title('light_graph_1_week_20180623_to_20180630_critere_7')"
   ]
  },
  {
   "cell_type": "code",
   "execution_count": 63,
   "metadata": {},
   "outputs": [
    {
     "name": "stderr",
     "output_type": "stream",
     "text": [
      "100%|████████████████████████████████████████████████████████████████████████████████| 150/150 [00:40<00:00,  3.52it/s]\n"
     ]
    },
    {
     "data": {
      "text/plain": [
       "Text(0.5,1,'light_graph_1_week_20180623_to_20180630_critere_entre_5_et_10')"
      ]
     },
     "execution_count": 63,
     "metadata": {},
     "output_type": "execute_result"
    },
    {
     "data": {
      "image/png": "[encoded data removed]",
      "text/plain": [
       "<Figure size 432x288 with 1 Axes>"
      ]
     },
     "metadata": {},
     "output_type": "display_data"
    }
   ],
   "source": [
    "f= 15 #nb of folds\n",
    "list_critere= np.linspace(0, 3, num=10) #list of criteria to test\n",
    "nb_retry=50 #Not mandatory (100 if not given)\n",
    "\n",
    "\n",
    "################################################################################################################################\n",
    "\n",
    "list_not_classified=[];\n",
    "list_well_classified=[];\n",
    "list_well_classified_controversial=[]\n",
    "list_well_classified_confidence=[]\n",
    "list_bad_classified=[];\n",
    "\n",
    "file='light_graph_1_week_20180623_to_20180630_critere_between_5_10.gexf'\n",
    "G=nx.read_gexf(file)\n",
    "G=normalization_graph(G);\n",
    "\n",
    "pbar = tqdm(total=len(list_critere)*f)\n",
    "\n",
    "for critere in list_critere:\n",
    "    mean_not_classified=0\n",
    "    mean_well_classified=0\n",
    "    mean_bad_classified=0\n",
    "    mean_well_classified_controversial=0;\n",
    "    mean_well_classified_confidence=0;\n",
    "\n",
    "    for i in range (0,f):\n",
    "        #print('f=',i,'et critere=',critere)\n",
    "        [G_total, df_res, to_classify, not_classified, well_classified_controversial,well_classified_confidence, bad_classified]=label_propagation_controversial_website_total(G,critere,params,nb_retry=nb_retry)\n",
    "\n",
    "        mean_not_classified+=not_classified/to_classify\n",
    "        mean_well_classified_controversial+=well_classified_controversial/to_classify\n",
    "        mean_well_classified_confidence+=well_classified_confidence/to_classify\n",
    "        mean_well_classified+=(well_classified_confidence+well_classified_controversial)/to_classify\n",
    "        mean_bad_classified+=bad_classified/to_classify\n",
    "        \n",
    "        pbar.update(1)\n",
    "\n",
    "    list_not_classified.append(100*mean_not_classified/f)\n",
    "    list_well_classified.append(100*mean_well_classified/f)\n",
    "    list_well_classified_controversial.append(100*mean_well_classified_controversial/f)\n",
    "    list_well_classified_confidence.append(100*mean_well_classified_confidence/f)\n",
    "    list_bad_classified.append(100*mean_bad_classified/f)\n",
    "    \n",
    "    \n",
    "pbar.close()\n",
    "\n",
    "# plot graph\n",
    "plt.figure()\n",
    "\n",
    "plt.plot(list_critere, list_not_classified,'b^',label='Not Classified')\n",
    "plt.plot(list_critere, list_well_classified,'g*',label='Well Classified')\n",
    "plt.plot(list_critere, list_bad_classified,'rx',label='Bad Classified')\n",
    "plt.xlabel('Critère')\n",
    "plt.ylabel('%')\n",
    "\n",
    "plt.plot(list_critere,list_well_classified_controversial,'r--',label=\"Well Classified Controversial\")\n",
    "plt.plot(list_critere,list_well_classified_confidence,'g--',label=\"Well Classified Confidence\")\n",
    "plt.legend(loc='center left', bbox_to_anchor=(1, 0.5))\n",
    "plt.title('light_graph_1_week_20180623_to_20180630_critere_entre_5_et_10')"
   ]
  },
  {
   "cell_type": "markdown",
   "metadata": {},
   "source": [
    " Conclusion\n",
    "     <5 : pas d'informations permettant label propagation\n",
    "     <7 : début d'information, mais pas encore ça\n",
    "     <10 : assez d'information\n",
    "     \n",
    " => L'information permettant la propagation du label est contenu dans les évenement peut partagés (environ <10), mais pas dans les évenement les moins partagés (<5 ne donne pas de résultats)\n",
    " \n",
    " Entre 5 et 10 : ca marche moyen -> l'information semble disséminée parmis les events publiés entre 1 (non compris) et 10\n",
    "     "
   ]
  },
  {
   "cell_type": "markdown",
   "metadata": {},
   "source": [
    "### Study dissemination over \"layout\""
   ]
  },
  {
   "cell_type": "markdown",
   "metadata": {},
   "source": [
    "    Start between 1 et 10\n",
    "    then 2 and 10 ...\n",
    "    and 5 et 10\n",
    "    \n",
    "    -> Steep curve: not well distributed\n",
    "    -> Smooth curve: well distributed"
   ]
  },
  {
   "cell_type": "code",
   "execution_count": 8,
   "metadata": {},
   "outputs": [
    {
     "name": "stderr",
     "output_type": "stream",
     "text": [
      "C:\\Users\\maell\\Anaconda3\\lib\\site-packages\\numpy\\lib\\arraysetops.py:472: FutureWarning: elementwise comparison failed; returning scalar instead, but in the future will perform elementwise comparison\n",
      "  mask |= (ar1 == a)\n"
     ]
    }
   ],
   "source": [
    "# Préprocessing : we remove from the dataframe anything above 10\n",
    "all_data_path='1_week_all_data_preprocess.csv'\n",
    "data=open_data(all_data_path)\n",
    "all_data_preprocess=data[data.groupby('GlobalEventID').GlobalEventID.transform(len) < 10]\n",
    "all_data_preprocess.to_csv('1_week_all_data_preprocess_1_10.csv',sep = '\\t',decimal = '.')"
   ]
  },
  {
   "cell_type": "code",
   "execution_count": 11,
   "metadata": {},
   "outputs": [
    {
     "name": "stderr",
     "output_type": "stream",
     "text": [
      "C:\\Users\\maell\\Anaconda3\\lib\\site-packages\\numpy\\lib\\arraysetops.py:472: FutureWarning: elementwise comparison failed; returning scalar instead, but in the future will perform elementwise comparison\n",
      "  mask |= (ar1 == a)\n",
      "100%|█████████████████████████████████████████████████████████████████████████| 320668/320668 [10:06<00:00, 528.85it/s]\n"
     ]
    },
    {
     "name": "stdout",
     "output_type": "stream",
     "text": [
      "2ème graph OK\n"
     ]
    },
    {
     "name": "stderr",
     "output_type": "stream",
     "text": [
      "100%|█████████████████████████████████████████████████████████████████████████| 320668/320668 [08:23<00:00, 636.71it/s]\n"
     ]
    },
    {
     "name": "stdout",
     "output_type": "stream",
     "text": [
      "3ème graph OK\n"
     ]
    },
    {
     "name": "stderr",
     "output_type": "stream",
     "text": [
      "100%|█████████████████████████████████████████████████████████████████████████| 320668/320668 [09:58<00:00, 535.77it/s]\n"
     ]
    },
    {
     "name": "stdout",
     "output_type": "stream",
     "text": [
      "4ème graph OK\n"
     ]
    }
   ],
   "source": [
    "#creating the graphs (1-10 and 5-10 already done)\n",
    "all_data_preprocess_path='1_week_all_data_preprocess_1_10.csv'\n",
    "critere_sup=10\n",
    "for i in [2, 3, 4]:\n",
    "    critere_inf=i\n",
    "    G=light_graph_sources_poids_v3(all_data_preprocess_path,critere_sup,critere_inf)\n",
    "    G_clean=cleaning_graph(G);\n",
    "    nx.write_gexf(G_clean,'light_graph_1_week_20180623_to_20180630_critere_between_'+str(critere_inf)+'_10.gexf')\n",
    "    print(str(i)+'ème graph OK')"
   ]
  },
  {
   "cell_type": "code",
   "execution_count": 8,
   "metadata": {},
   "outputs": [
    {
     "name": "stderr",
     "output_type": "stream",
     "text": [
      "100%|████████████████████████████████████████████████████████████████████████████████| 750/750 [05:49<00:00,  3.44it/s]\n"
     ]
    },
    {
     "data": {
      "text/plain": [
       "<matplotlib.legend.Legend at 0x1e5593a7c88>"
      ]
     },
     "execution_count": 8,
     "metadata": {},
     "output_type": "execute_result"
    },
    {
     "data": {
      "image/png": "[encoded data removed]",
      "text/plain": [
       "<Figure size 432x288 with 1 Axes>"
      ]
     },
     "metadata": {},
     "output_type": "display_data"
    }
   ],
   "source": [
    "# comparing results\n",
    "\n",
    "f= 15 #nb of folds\n",
    "list_critere= np.linspace(0, 3, num=10) #list of criteria to test\n",
    "nb_retry=50 #Not mandatory (100 if not given)\n",
    "\n",
    "\n",
    "################################################################################################################################\n",
    "\n",
    "\n",
    "\n",
    "file='light_graph_1_week_20180623_to_20180630_critere_between_5_10.gexf'\n",
    "G=nx.read_gexf(file)\n",
    "G=normalization_graph(G);\n",
    "\n",
    "pbar = tqdm(total=len(list_critere)*f*5)\n",
    "\n",
    "list_path=['light_graph_1_week_20180623_to_20180630_critere_10.gexf',\n",
    "           'light_graph_1_week_20180623_to_20180630_critere_between_2_10.gexf',\n",
    "           'light_graph_1_week_20180623_to_20180630_critere_between_3_10.gexf',\n",
    "           'light_graph_1_week_20180623_to_20180630_critere_between_4_10.gexf',\n",
    "           'light_graph_1_week_20180623_to_20180630_critere_between_5_10.gexf']\n",
    "\n",
    "list_label=['Well classified, between 1 and 10',\n",
    "           'Well classified, between 2 and 10',\n",
    "           'Well classified, between 3 and 10',\n",
    "           'Well classified, between 4 and 10',\n",
    "           'Well classified, between 5 and 10']\n",
    "\n",
    "for j in range (0,5):\n",
    "    G=nx.read_gexf(list_path[j])\n",
    "    G=normalization_graph(G);\n",
    "    list_well_classified=[];\n",
    "    for critere in list_critere:\n",
    "        mean_well_classified=0\n",
    "        for i in range (0,f):\n",
    "            #print('f=',i,'et critere=',critere)\n",
    "            [G_total, df_res, to_classify, not_classified, well_classified_controversial,well_classified_confidence, bad_classified]=label_propagation_controversial_website_total(G,critere,params,nb_retry=nb_retry)\n",
    "            mean_well_classified+=(well_classified_confidence+well_classified_controversial)/to_classify\n",
    "            pbar.update(1)\n",
    "\n",
    "        list_well_classified.append(100*mean_well_classified/f)\n",
    "    plt.plot(list_critere, list_well_classified,label=list_label[j])\n",
    "\n",
    "pbar.close()\n",
    "plt.xlabel('Critère')\n",
    "plt.ylabel('%')\n",
    "plt.legend(loc='center left', bbox_to_anchor=(1, 0.5))"
   ]
  },
  {
   "cell_type": "markdown",
   "metadata": {},
   "source": [
    "The information allowing classification is fairly well distributed within the \"layers\" of many publications: the fewer layers there are, the less good the classification.  \n",
    "However, we can notice that the graph constructed between 3 and 10 has a very good performance which is even better than for the graph constructed between 1 and 10: the information contained between 3 and 10 is therefore more relevant (for this week in particular)!"
   ]
  }
 ],
 "metadata": {
  "kernelspec": {
   "display_name": "Python 3",
   "language": "python",
   "name": "python3"
  },
  "language_info": {
   "codemirror_mode": {
    "name": "ipython",
    "version": 3
   },
   "file_extension": ".py",
   "mimetype": "text/x-python",
   "name": "python",
   "nbconvert_exporter": "python",
   "pygments_lexer": "ipython3",
   "version": "3.6.5"
  }
 },
 "nbformat": 4,
 "nbformat_minor": 2
}
